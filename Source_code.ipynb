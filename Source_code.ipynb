{
 "cells": [
  {
   "cell_type": "code",
   "execution_count": 1,
   "id": "d35567e8-54b6-4f17-98fb-a58c81726346",
   "metadata": {},
   "outputs": [],
   "source": [
    "import numpy as np"
   ]
  },
  {
   "cell_type": "code",
   "execution_count": 2,
   "id": "d53d6486-6848-40e8-bb75-2316ade75ce1",
   "metadata": {},
   "outputs": [],
   "source": [
    "    #function to multiply matrices\n",
    "    \n",
    "    def multiply_matrices(A,B):\n",
    "        rows_A, cols_A = len(A), len(A[0])\n",
    "        rows_B, cols_B = len(B), len(B[0])\n",
    "    \n",
    "        if cols_A != rows_B:\n",
    "            raise ValueError\n",
    "        \n",
    "        result = [[0 for x in range(cols_B)] for x in range(rows_A)]\n",
    "        \n",
    "        for i in range(rows_A):\n",
    "            for j in range(cols_B):\n",
    "                for k in range(cols_A):\n",
    "                    result[i][j] += A[i][k] * B[k][j] \n",
    "    \n",
    "        return result"
   ]
  },
  {
   "cell_type": "code",
   "execution_count": 3,
   "id": "b6eaf694-db5d-432f-8f2d-6ab43a0fd47d",
   "metadata": {},
   "outputs": [
    {
     "name": "stdout",
     "output_type": "stream",
     "text": [
      "[[np.int64(10), np.int64(19)], [np.int64(14), np.int64(27)]]\n",
      "[[10 19]\n",
      " [14 27]]\n"
     ]
    }
   ],
   "source": [
    "#Creating array and reshape into 2x2\n",
    "\n",
    "A = np.arange(4,8).reshape(2,2)\n",
    "B = np.arange(4).reshape(2,2)\n",
    "\n",
    "#calling multiply_matrices function\n",
    "\n",
    "result = multiply_matrices(A,B)\n",
    "\n",
    "print(result)\n",
    "\n",
    "#Verify the results with numpy\n",
    "\n",
    "result_np = np.dot(A, B)\n",
    "\n",
    "print(result_np)"
   ]
  }
 ],
 "metadata": {
  "kernelspec": {
   "display_name": "Python 3 (ipykernel)",
   "language": "python",
   "name": "python3"
  },
  "language_info": {
   "codemirror_mode": {
    "name": "ipython",
    "version": 3
   },
   "file_extension": ".py",
   "mimetype": "text/x-python",
   "name": "python",
   "nbconvert_exporter": "python",
   "pygments_lexer": "ipython3",
   "version": "3.13.1"
  }
 },
 "nbformat": 4,
 "nbformat_minor": 5
}
